{
  "nbformat": 4,
  "nbformat_minor": 0,
  "metadata": {
    "colab": {
      "provenance": [],
      "authorship_tag": "ABX9TyNmYks8dcTcGpl4Ab0P9+X2",
      "include_colab_link": true
    },
    "kernelspec": {
      "name": "python3",
      "display_name": "Python 3"
    },
    "language_info": {
      "name": "python"
    }
  },
  "cells": [
    {
      "cell_type": "markdown",
      "metadata": {
        "id": "view-in-github",
        "colab_type": "text"
      },
      "source": [
        "<a href=\"https://colab.research.google.com/github/Beccacec/FDS-Final-Project/blob/Lorenzo/FDS_final_project_Lorenzo.ipynb\" target=\"_parent\"><img src=\"https://colab.research.google.com/assets/colab-badge.svg\" alt=\"Open In Colab\"/></a>"
      ]
    },
    {
      "cell_type": "code",
      "source": [
        "import csv\n",
        "import pandas as pd\n",
        "from sklearn.preprocessing import LabelEncoder\n",
        "from sklearn.linear_model import LinearRegression\n",
        "import matplotlib.pyplot as plt\n"
      ],
      "metadata": {
        "id": "MPP_R8jPRnhK"
      },
      "execution_count": 126,
      "outputs": []
    },
    {
      "cell_type": "code",
      "execution_count": 3,
      "metadata": {
        "colab": {
          "base_uri": "https://localhost:8080/"
        },
        "id": "_Gl86BsJPIw2",
        "outputId": "c66c2c1a-d217-443e-a0df-eec084a0d1cf"
      },
      "outputs": [
        {
          "output_type": "stream",
          "name": "stdout",
          "text": [
            "Mounted at /content/drive\n"
          ]
        }
      ],
      "source": [
        "from google.colab import drive\n",
        "\n",
        "drive.mount('/content/drive')"
      ]
    },
    {
      "cell_type": "markdown",
      "source": [
        "We select specific features in order to find out which of them can affect the price of the property.\n",
        "So we choose features like \"id\", \"name\", \"neighbourhood\" (because some of them are not in specifically in the city of Rome\"), \"price\" and others that seemed interesting for this analysis."
      ],
      "metadata": {
        "id": "Mi00yCHRXX8W"
      }
    },
    {
      "cell_type": "code",
      "source": [
        "features_price = [\"id\",\"name\",\"neighbourhood\",\"neighbourhood_cleansed\",\"latitude\",\"longitude\",\"property_type\",\"room_type\",\"bedrooms\",\"beds\",\"amenities\",\"price\",\"number_of_reviews_ltm\",\"review_scores_rating\"]"
      ],
      "metadata": {
        "id": "O41QC4f3SXnt"
      },
      "execution_count": 4,
      "outputs": []
    },
    {
      "cell_type": "code",
      "source": [
        "df = pd.read_csv(\"/content/drive/MyDrive/FDS_final_project/listings.csv\", usecols = features_price)\n",
        "df.head()"
      ],
      "metadata": {
        "colab": {
          "base_uri": "https://localhost:8080/",
          "height": 600
        },
        "id": "NBvofp_-nFUm",
        "outputId": "307b0f1d-d8ad-4814-824f-2b8f8025d84d"
      },
      "execution_count": 56,
      "outputs": [
        {
          "output_type": "execute_result",
          "data": {
            "text/plain": [
              "         id                                 name           neighbourhood  \\\n",
              "0  17629440                      ISOLA DEL CUORE  Ciampino, Lazio, Italy   \n",
              "1      2737     Elif's room in cozy, clean flat.      Rome, Lazio, Italy   \n",
              "2    103870  CASACHICA Your holiday home in Rome                     NaN   \n",
              "3      2903    Stay a night in Calisto6 B&B Rome                     NaN   \n",
              "4    104339      Colorful apartment close MetroB      Rome, Lazio, Italy   \n",
              "\n",
              "       neighbourhood_cleansed  latitude  longitude  \\\n",
              "0  VII San Giovanni/Cinecittà  41.78984   12.60899   \n",
              "1           VIII Appia Antica  41.87136   12.48215   \n",
              "2            I Centro Storico  41.89711   12.50423   \n",
              "3            I Centro Storico  41.88824   12.46953   \n",
              "4           VIII Appia Antica  41.85585   12.48361   \n",
              "\n",
              "                       property_type        room_type  bedrooms  beds  \\\n",
              "0        Private room in rental unit     Private room       1.0   1.0   \n",
              "1                       Private room     Private room       1.0   1.0   \n",
              "2                 Entire rental unit  Entire home/apt       1.0   2.0   \n",
              "3  Private room in bed and breakfast     Private room       1.0   2.0   \n",
              "4                 Entire rental unit  Entire home/apt       1.0   2.0   \n",
              "\n",
              "                                           amenities    price  \\\n",
              "0  [\"Heating\", \"Shampoo\", \"Cleaning products\", \"H...   $45.00   \n",
              "1  [\"First aid kit\", \"Heating\", \"Elevator\", \"Wifi...   $50.00   \n",
              "2  [\"Air conditioning\", \"Heating\", \"Lockbox\", \"Mi...   $78.00   \n",
              "3  [\"Air conditioning\", \"First aid kit\", \"Heating...  $164.00   \n",
              "4  [\"Heating\", \"Paid parking off premises\", \"Lugg...   $80.00   \n",
              "\n",
              "   number_of_reviews_ltm  review_scores_rating  \n",
              "0                      8                  4.74  \n",
              "1                      0                  4.80  \n",
              "2                     30                  4.11  \n",
              "3                      0                  4.28  \n",
              "4                      0                  5.00  "
            ],
            "text/html": [
              "\n",
              "  <div id=\"df-4a1328cd-327e-424e-a18e-1349bec776c8\">\n",
              "    <div class=\"colab-df-container\">\n",
              "      <div>\n",
              "<style scoped>\n",
              "    .dataframe tbody tr th:only-of-type {\n",
              "        vertical-align: middle;\n",
              "    }\n",
              "\n",
              "    .dataframe tbody tr th {\n",
              "        vertical-align: top;\n",
              "    }\n",
              "\n",
              "    .dataframe thead th {\n",
              "        text-align: right;\n",
              "    }\n",
              "</style>\n",
              "<table border=\"1\" class=\"dataframe\">\n",
              "  <thead>\n",
              "    <tr style=\"text-align: right;\">\n",
              "      <th></th>\n",
              "      <th>id</th>\n",
              "      <th>name</th>\n",
              "      <th>neighbourhood</th>\n",
              "      <th>neighbourhood_cleansed</th>\n",
              "      <th>latitude</th>\n",
              "      <th>longitude</th>\n",
              "      <th>property_type</th>\n",
              "      <th>room_type</th>\n",
              "      <th>bedrooms</th>\n",
              "      <th>beds</th>\n",
              "      <th>amenities</th>\n",
              "      <th>price</th>\n",
              "      <th>number_of_reviews_ltm</th>\n",
              "      <th>review_scores_rating</th>\n",
              "    </tr>\n",
              "  </thead>\n",
              "  <tbody>\n",
              "    <tr>\n",
              "      <th>0</th>\n",
              "      <td>17629440</td>\n",
              "      <td>ISOLA DEL CUORE</td>\n",
              "      <td>Ciampino, Lazio, Italy</td>\n",
              "      <td>VII San Giovanni/Cinecittà</td>\n",
              "      <td>41.78984</td>\n",
              "      <td>12.60899</td>\n",
              "      <td>Private room in rental unit</td>\n",
              "      <td>Private room</td>\n",
              "      <td>1.0</td>\n",
              "      <td>1.0</td>\n",
              "      <td>[\"Heating\", \"Shampoo\", \"Cleaning products\", \"H...</td>\n",
              "      <td>$45.00</td>\n",
              "      <td>8</td>\n",
              "      <td>4.74</td>\n",
              "    </tr>\n",
              "    <tr>\n",
              "      <th>1</th>\n",
              "      <td>2737</td>\n",
              "      <td>Elif's room in cozy, clean flat.</td>\n",
              "      <td>Rome, Lazio, Italy</td>\n",
              "      <td>VIII Appia Antica</td>\n",
              "      <td>41.87136</td>\n",
              "      <td>12.48215</td>\n",
              "      <td>Private room</td>\n",
              "      <td>Private room</td>\n",
              "      <td>1.0</td>\n",
              "      <td>1.0</td>\n",
              "      <td>[\"First aid kit\", \"Heating\", \"Elevator\", \"Wifi...</td>\n",
              "      <td>$50.00</td>\n",
              "      <td>0</td>\n",
              "      <td>4.80</td>\n",
              "    </tr>\n",
              "    <tr>\n",
              "      <th>2</th>\n",
              "      <td>103870</td>\n",
              "      <td>CASACHICA Your holiday home in Rome</td>\n",
              "      <td>NaN</td>\n",
              "      <td>I Centro Storico</td>\n",
              "      <td>41.89711</td>\n",
              "      <td>12.50423</td>\n",
              "      <td>Entire rental unit</td>\n",
              "      <td>Entire home/apt</td>\n",
              "      <td>1.0</td>\n",
              "      <td>2.0</td>\n",
              "      <td>[\"Air conditioning\", \"Heating\", \"Lockbox\", \"Mi...</td>\n",
              "      <td>$78.00</td>\n",
              "      <td>30</td>\n",
              "      <td>4.11</td>\n",
              "    </tr>\n",
              "    <tr>\n",
              "      <th>3</th>\n",
              "      <td>2903</td>\n",
              "      <td>Stay a night in Calisto6 B&amp;B Rome</td>\n",
              "      <td>NaN</td>\n",
              "      <td>I Centro Storico</td>\n",
              "      <td>41.88824</td>\n",
              "      <td>12.46953</td>\n",
              "      <td>Private room in bed and breakfast</td>\n",
              "      <td>Private room</td>\n",
              "      <td>1.0</td>\n",
              "      <td>2.0</td>\n",
              "      <td>[\"Air conditioning\", \"First aid kit\", \"Heating...</td>\n",
              "      <td>$164.00</td>\n",
              "      <td>0</td>\n",
              "      <td>4.28</td>\n",
              "    </tr>\n",
              "    <tr>\n",
              "      <th>4</th>\n",
              "      <td>104339</td>\n",
              "      <td>Colorful apartment close MetroB</td>\n",
              "      <td>Rome, Lazio, Italy</td>\n",
              "      <td>VIII Appia Antica</td>\n",
              "      <td>41.85585</td>\n",
              "      <td>12.48361</td>\n",
              "      <td>Entire rental unit</td>\n",
              "      <td>Entire home/apt</td>\n",
              "      <td>1.0</td>\n",
              "      <td>2.0</td>\n",
              "      <td>[\"Heating\", \"Paid parking off premises\", \"Lugg...</td>\n",
              "      <td>$80.00</td>\n",
              "      <td>0</td>\n",
              "      <td>5.00</td>\n",
              "    </tr>\n",
              "  </tbody>\n",
              "</table>\n",
              "</div>\n",
              "      <button class=\"colab-df-convert\" onclick=\"convertToInteractive('df-4a1328cd-327e-424e-a18e-1349bec776c8')\"\n",
              "              title=\"Convert this dataframe to an interactive table.\"\n",
              "              style=\"display:none;\">\n",
              "        \n",
              "  <svg xmlns=\"http://www.w3.org/2000/svg\" height=\"24px\"viewBox=\"0 0 24 24\"\n",
              "       width=\"24px\">\n",
              "    <path d=\"M0 0h24v24H0V0z\" fill=\"none\"/>\n",
              "    <path d=\"M18.56 5.44l.94 2.06.94-2.06 2.06-.94-2.06-.94-.94-2.06-.94 2.06-2.06.94zm-11 1L8.5 8.5l.94-2.06 2.06-.94-2.06-.94L8.5 2.5l-.94 2.06-2.06.94zm10 10l.94 2.06.94-2.06 2.06-.94-2.06-.94-.94-2.06-.94 2.06-2.06.94z\"/><path d=\"M17.41 7.96l-1.37-1.37c-.4-.4-.92-.59-1.43-.59-.52 0-1.04.2-1.43.59L10.3 9.45l-7.72 7.72c-.78.78-.78 2.05 0 2.83L4 21.41c.39.39.9.59 1.41.59.51 0 1.02-.2 1.41-.59l7.78-7.78 2.81-2.81c.8-.78.8-2.07 0-2.86zM5.41 20L4 18.59l7.72-7.72 1.47 1.35L5.41 20z\"/>\n",
              "  </svg>\n",
              "      </button>\n",
              "      \n",
              "  <style>\n",
              "    .colab-df-container {\n",
              "      display:flex;\n",
              "      flex-wrap:wrap;\n",
              "      gap: 12px;\n",
              "    }\n",
              "\n",
              "    .colab-df-convert {\n",
              "      background-color: #E8F0FE;\n",
              "      border: none;\n",
              "      border-radius: 50%;\n",
              "      cursor: pointer;\n",
              "      display: none;\n",
              "      fill: #1967D2;\n",
              "      height: 32px;\n",
              "      padding: 0 0 0 0;\n",
              "      width: 32px;\n",
              "    }\n",
              "\n",
              "    .colab-df-convert:hover {\n",
              "      background-color: #E2EBFA;\n",
              "      box-shadow: 0px 1px 2px rgba(60, 64, 67, 0.3), 0px 1px 3px 1px rgba(60, 64, 67, 0.15);\n",
              "      fill: #174EA6;\n",
              "    }\n",
              "\n",
              "    [theme=dark] .colab-df-convert {\n",
              "      background-color: #3B4455;\n",
              "      fill: #D2E3FC;\n",
              "    }\n",
              "\n",
              "    [theme=dark] .colab-df-convert:hover {\n",
              "      background-color: #434B5C;\n",
              "      box-shadow: 0px 1px 3px 1px rgba(0, 0, 0, 0.15);\n",
              "      filter: drop-shadow(0px 1px 2px rgba(0, 0, 0, 0.3));\n",
              "      fill: #FFFFFF;\n",
              "    }\n",
              "  </style>\n",
              "\n",
              "      <script>\n",
              "        const buttonEl =\n",
              "          document.querySelector('#df-4a1328cd-327e-424e-a18e-1349bec776c8 button.colab-df-convert');\n",
              "        buttonEl.style.display =\n",
              "          google.colab.kernel.accessAllowed ? 'block' : 'none';\n",
              "\n",
              "        async function convertToInteractive(key) {\n",
              "          const element = document.querySelector('#df-4a1328cd-327e-424e-a18e-1349bec776c8');\n",
              "          const dataTable =\n",
              "            await google.colab.kernel.invokeFunction('convertToInteractive',\n",
              "                                                     [key], {});\n",
              "          if (!dataTable) return;\n",
              "\n",
              "          const docLinkHtml = 'Like what you see? Visit the ' +\n",
              "            '<a target=\"_blank\" href=https://colab.research.google.com/notebooks/data_table.ipynb>data table notebook</a>'\n",
              "            + ' to learn more about interactive tables.';\n",
              "          element.innerHTML = '';\n",
              "          dataTable['output_type'] = 'display_data';\n",
              "          await google.colab.output.renderOutput(dataTable, element);\n",
              "          const docLink = document.createElement('div');\n",
              "          docLink.innerHTML = docLinkHtml;\n",
              "          element.appendChild(docLink);\n",
              "        }\n",
              "      </script>\n",
              "    </div>\n",
              "  </div>\n",
              "  "
            ]
          },
          "metadata": {},
          "execution_count": 56
        }
      ]
    },
    {
      "cell_type": "markdown",
      "source": [
        "Deleting NaN values in the dataframe"
      ],
      "metadata": {
        "id": "OQ37eMmc9qwo"
      }
    },
    {
      "cell_type": "code",
      "source": [
        "df = df.dropna()"
      ],
      "metadata": {
        "id": "CBmdW8G6Mb_y"
      },
      "execution_count": 57,
      "outputs": []
    },
    {
      "cell_type": "markdown",
      "source": [
        "We want to consider only properties in the city of Rome and not the ones from Rome area but outside the city."
      ],
      "metadata": {
        "id": "nW6Npx4i_IXX"
      }
    },
    {
      "cell_type": "code",
      "source": [
        "df = df.drop(df[~df['neighbourhood'].str.contains('Rome')].index)\n"
      ],
      "metadata": {
        "id": "Smtjh-Vh_HnR"
      },
      "execution_count": 58,
      "outputs": []
    },
    {
      "cell_type": "markdown",
      "source": [
        "We replace the symbol \"$\" with a space in the column referring to the price."
      ],
      "metadata": {
        "id": "gorO3nkZquUS"
      }
    },
    {
      "cell_type": "code",
      "source": [
        "df[\"price\"] = df[\"price\"].str.replace('$','',regex = True)"
      ],
      "metadata": {
        "id": "zaosvN6Ddo9v"
      },
      "execution_count": 59,
      "outputs": []
    },
    {
      "cell_type": "code",
      "source": [
        "df.head()"
      ],
      "metadata": {
        "colab": {
          "base_uri": "https://localhost:8080/",
          "height": 634
        },
        "id": "2blD__h-LosP",
        "outputId": "d30cc544-ed03-4ad8-825a-4de1986a909f"
      },
      "execution_count": 51,
      "outputs": [
        {
          "output_type": "execute_result",
          "data": {
            "text/plain": [
              "        id                                              name  \\\n",
              "1     2737                  Elif's room in cozy, clean flat.   \n",
              "4   104339                   Colorful apartment close MetroB   \n",
              "5     3079         Cozy apartment  (2-4)with Colisseum  view   \n",
              "7    12398               Casa Donatello - Home far from Home   \n",
              "10  108039  Sweet terrace by Vatican Musuem New wifi 100Mbs!   \n",
              "\n",
              "         neighbourhood neighbourhood_cleansed  latitude  longitude  \\\n",
              "1   Rome, Lazio, Italy      VIII Appia Antica  41.87136   12.48215   \n",
              "4   Rome, Lazio, Italy      VIII Appia Antica  41.85585   12.48361   \n",
              "5   Rome, Lazio, Italy       I Centro Storico  41.89500   12.49117   \n",
              "7   Rome, Lazio, Italy   II Parioli/Nomentano  41.92582   12.46928   \n",
              "10  Rome, Lazio, Italy       I Centro Storico  41.90428   12.44510   \n",
              "\n",
              "         property_type        room_type  bedrooms  beds  \\\n",
              "1         Private room     Private room       1.0   1.0   \n",
              "4   Entire rental unit  Entire home/apt       1.0   2.0   \n",
              "5   Entire rental unit  Entire home/apt       1.0   1.0   \n",
              "7   Entire rental unit  Entire home/apt       2.0   3.0   \n",
              "10  Entire rental unit  Entire home/apt       1.0   1.0   \n",
              "\n",
              "                                            amenities  price  \\\n",
              "1   [\"First aid kit\", \"Heating\", \"Elevator\", \"Wifi...   50.0   \n",
              "4   [\"Heating\", \"Paid parking off premises\", \"Lugg...   80.0   \n",
              "5   [\"Heating\", \"Paid parking off premises\", \"Lugg...   90.0   \n",
              "7   [\"50\\\" HDTV with standard cable\", \"Heating\", \"...   75.0   \n",
              "10  [\"Air conditioning\", \"Heating\", \"Paid parking ...   75.0   \n",
              "\n",
              "    number_of_reviews_ltm  review_scores_rating  neighbourhood_id  \n",
              "1                       0                  4.80               8.0  \n",
              "4                       0                  5.00               8.0  \n",
              "5                       2                  4.53               0.0  \n",
              "7                       1                  4.90               1.0  \n",
              "10                      0                  4.79               0.0  "
            ],
            "text/html": [
              "\n",
              "  <div id=\"df-e81e58cb-c8a8-4387-aeef-9740b445e044\">\n",
              "    <div class=\"colab-df-container\">\n",
              "      <div>\n",
              "<style scoped>\n",
              "    .dataframe tbody tr th:only-of-type {\n",
              "        vertical-align: middle;\n",
              "    }\n",
              "\n",
              "    .dataframe tbody tr th {\n",
              "        vertical-align: top;\n",
              "    }\n",
              "\n",
              "    .dataframe thead th {\n",
              "        text-align: right;\n",
              "    }\n",
              "</style>\n",
              "<table border=\"1\" class=\"dataframe\">\n",
              "  <thead>\n",
              "    <tr style=\"text-align: right;\">\n",
              "      <th></th>\n",
              "      <th>id</th>\n",
              "      <th>name</th>\n",
              "      <th>neighbourhood</th>\n",
              "      <th>neighbourhood_cleansed</th>\n",
              "      <th>latitude</th>\n",
              "      <th>longitude</th>\n",
              "      <th>property_type</th>\n",
              "      <th>room_type</th>\n",
              "      <th>bedrooms</th>\n",
              "      <th>beds</th>\n",
              "      <th>amenities</th>\n",
              "      <th>price</th>\n",
              "      <th>number_of_reviews_ltm</th>\n",
              "      <th>review_scores_rating</th>\n",
              "      <th>neighbourhood_id</th>\n",
              "    </tr>\n",
              "  </thead>\n",
              "  <tbody>\n",
              "    <tr>\n",
              "      <th>1</th>\n",
              "      <td>2737</td>\n",
              "      <td>Elif's room in cozy, clean flat.</td>\n",
              "      <td>Rome, Lazio, Italy</td>\n",
              "      <td>VIII Appia Antica</td>\n",
              "      <td>41.87136</td>\n",
              "      <td>12.48215</td>\n",
              "      <td>Private room</td>\n",
              "      <td>Private room</td>\n",
              "      <td>1.0</td>\n",
              "      <td>1.0</td>\n",
              "      <td>[\"First aid kit\", \"Heating\", \"Elevator\", \"Wifi...</td>\n",
              "      <td>50.0</td>\n",
              "      <td>0</td>\n",
              "      <td>4.80</td>\n",
              "      <td>8.0</td>\n",
              "    </tr>\n",
              "    <tr>\n",
              "      <th>4</th>\n",
              "      <td>104339</td>\n",
              "      <td>Colorful apartment close MetroB</td>\n",
              "      <td>Rome, Lazio, Italy</td>\n",
              "      <td>VIII Appia Antica</td>\n",
              "      <td>41.85585</td>\n",
              "      <td>12.48361</td>\n",
              "      <td>Entire rental unit</td>\n",
              "      <td>Entire home/apt</td>\n",
              "      <td>1.0</td>\n",
              "      <td>2.0</td>\n",
              "      <td>[\"Heating\", \"Paid parking off premises\", \"Lugg...</td>\n",
              "      <td>80.0</td>\n",
              "      <td>0</td>\n",
              "      <td>5.00</td>\n",
              "      <td>8.0</td>\n",
              "    </tr>\n",
              "    <tr>\n",
              "      <th>5</th>\n",
              "      <td>3079</td>\n",
              "      <td>Cozy apartment  (2-4)with Colisseum  view</td>\n",
              "      <td>Rome, Lazio, Italy</td>\n",
              "      <td>I Centro Storico</td>\n",
              "      <td>41.89500</td>\n",
              "      <td>12.49117</td>\n",
              "      <td>Entire rental unit</td>\n",
              "      <td>Entire home/apt</td>\n",
              "      <td>1.0</td>\n",
              "      <td>1.0</td>\n",
              "      <td>[\"Heating\", \"Paid parking off premises\", \"Lugg...</td>\n",
              "      <td>90.0</td>\n",
              "      <td>2</td>\n",
              "      <td>4.53</td>\n",
              "      <td>0.0</td>\n",
              "    </tr>\n",
              "    <tr>\n",
              "      <th>7</th>\n",
              "      <td>12398</td>\n",
              "      <td>Casa Donatello - Home far from Home</td>\n",
              "      <td>Rome, Lazio, Italy</td>\n",
              "      <td>II Parioli/Nomentano</td>\n",
              "      <td>41.92582</td>\n",
              "      <td>12.46928</td>\n",
              "      <td>Entire rental unit</td>\n",
              "      <td>Entire home/apt</td>\n",
              "      <td>2.0</td>\n",
              "      <td>3.0</td>\n",
              "      <td>[\"50\\\" HDTV with standard cable\", \"Heating\", \"...</td>\n",
              "      <td>75.0</td>\n",
              "      <td>1</td>\n",
              "      <td>4.90</td>\n",
              "      <td>1.0</td>\n",
              "    </tr>\n",
              "    <tr>\n",
              "      <th>10</th>\n",
              "      <td>108039</td>\n",
              "      <td>Sweet terrace by Vatican Musuem New wifi 100Mbs!</td>\n",
              "      <td>Rome, Lazio, Italy</td>\n",
              "      <td>I Centro Storico</td>\n",
              "      <td>41.90428</td>\n",
              "      <td>12.44510</td>\n",
              "      <td>Entire rental unit</td>\n",
              "      <td>Entire home/apt</td>\n",
              "      <td>1.0</td>\n",
              "      <td>1.0</td>\n",
              "      <td>[\"Air conditioning\", \"Heating\", \"Paid parking ...</td>\n",
              "      <td>75.0</td>\n",
              "      <td>0</td>\n",
              "      <td>4.79</td>\n",
              "      <td>0.0</td>\n",
              "    </tr>\n",
              "  </tbody>\n",
              "</table>\n",
              "</div>\n",
              "      <button class=\"colab-df-convert\" onclick=\"convertToInteractive('df-e81e58cb-c8a8-4387-aeef-9740b445e044')\"\n",
              "              title=\"Convert this dataframe to an interactive table.\"\n",
              "              style=\"display:none;\">\n",
              "        \n",
              "  <svg xmlns=\"http://www.w3.org/2000/svg\" height=\"24px\"viewBox=\"0 0 24 24\"\n",
              "       width=\"24px\">\n",
              "    <path d=\"M0 0h24v24H0V0z\" fill=\"none\"/>\n",
              "    <path d=\"M18.56 5.44l.94 2.06.94-2.06 2.06-.94-2.06-.94-.94-2.06-.94 2.06-2.06.94zm-11 1L8.5 8.5l.94-2.06 2.06-.94-2.06-.94L8.5 2.5l-.94 2.06-2.06.94zm10 10l.94 2.06.94-2.06 2.06-.94-2.06-.94-.94-2.06-.94 2.06-2.06.94z\"/><path d=\"M17.41 7.96l-1.37-1.37c-.4-.4-.92-.59-1.43-.59-.52 0-1.04.2-1.43.59L10.3 9.45l-7.72 7.72c-.78.78-.78 2.05 0 2.83L4 21.41c.39.39.9.59 1.41.59.51 0 1.02-.2 1.41-.59l7.78-7.78 2.81-2.81c.8-.78.8-2.07 0-2.86zM5.41 20L4 18.59l7.72-7.72 1.47 1.35L5.41 20z\"/>\n",
              "  </svg>\n",
              "      </button>\n",
              "      \n",
              "  <style>\n",
              "    .colab-df-container {\n",
              "      display:flex;\n",
              "      flex-wrap:wrap;\n",
              "      gap: 12px;\n",
              "    }\n",
              "\n",
              "    .colab-df-convert {\n",
              "      background-color: #E8F0FE;\n",
              "      border: none;\n",
              "      border-radius: 50%;\n",
              "      cursor: pointer;\n",
              "      display: none;\n",
              "      fill: #1967D2;\n",
              "      height: 32px;\n",
              "      padding: 0 0 0 0;\n",
              "      width: 32px;\n",
              "    }\n",
              "\n",
              "    .colab-df-convert:hover {\n",
              "      background-color: #E2EBFA;\n",
              "      box-shadow: 0px 1px 2px rgba(60, 64, 67, 0.3), 0px 1px 3px 1px rgba(60, 64, 67, 0.15);\n",
              "      fill: #174EA6;\n",
              "    }\n",
              "\n",
              "    [theme=dark] .colab-df-convert {\n",
              "      background-color: #3B4455;\n",
              "      fill: #D2E3FC;\n",
              "    }\n",
              "\n",
              "    [theme=dark] .colab-df-convert:hover {\n",
              "      background-color: #434B5C;\n",
              "      box-shadow: 0px 1px 3px 1px rgba(0, 0, 0, 0.15);\n",
              "      filter: drop-shadow(0px 1px 2px rgba(0, 0, 0, 0.3));\n",
              "      fill: #FFFFFF;\n",
              "    }\n",
              "  </style>\n",
              "\n",
              "      <script>\n",
              "        const buttonEl =\n",
              "          document.querySelector('#df-e81e58cb-c8a8-4387-aeef-9740b445e044 button.colab-df-convert');\n",
              "        buttonEl.style.display =\n",
              "          google.colab.kernel.accessAllowed ? 'block' : 'none';\n",
              "\n",
              "        async function convertToInteractive(key) {\n",
              "          const element = document.querySelector('#df-e81e58cb-c8a8-4387-aeef-9740b445e044');\n",
              "          const dataTable =\n",
              "            await google.colab.kernel.invokeFunction('convertToInteractive',\n",
              "                                                     [key], {});\n",
              "          if (!dataTable) return;\n",
              "\n",
              "          const docLinkHtml = 'Like what you see? Visit the ' +\n",
              "            '<a target=\"_blank\" href=https://colab.research.google.com/notebooks/data_table.ipynb>data table notebook</a>'\n",
              "            + ' to learn more about interactive tables.';\n",
              "          element.innerHTML = '';\n",
              "          dataTable['output_type'] = 'display_data';\n",
              "          await google.colab.output.renderOutput(dataTable, element);\n",
              "          const docLink = document.createElement('div');\n",
              "          docLink.innerHTML = docLinkHtml;\n",
              "          element.appendChild(docLink);\n",
              "        }\n",
              "      </script>\n",
              "    </div>\n",
              "  </div>\n",
              "  "
            ]
          },
          "metadata": {},
          "execution_count": 51
        }
      ]
    },
    {
      "cell_type": "code",
      "source": [
        "df.head()"
      ],
      "metadata": {
        "id": "6ROUV8m-MVcI"
      },
      "execution_count": null,
      "outputs": []
    },
    {
      "cell_type": "code",
      "source": [
        "df = df[['bedrooms', 'price']]"
      ],
      "metadata": {
        "id": "LxXjip0xYO9I"
      },
      "execution_count": 120,
      "outputs": []
    },
    {
      "cell_type": "code",
      "source": [
        "model = LinearRegression()"
      ],
      "metadata": {
        "id": "8UIUNojSZKhM"
      },
      "execution_count": 121,
      "outputs": []
    },
    {
      "cell_type": "code",
      "source": [
        "model.fit(df['bedrooms'].values.reshape(-1,1), df['price'])"
      ],
      "metadata": {
        "colab": {
          "base_uri": "https://localhost:8080/"
        },
        "id": "AdkaesT1ZO8l",
        "outputId": "ad4d9eaf-8729-4d71-f36d-d6b43f396939"
      },
      "execution_count": 122,
      "outputs": [
        {
          "output_type": "execute_result",
          "data": {
            "text/plain": [
              "LinearRegression()"
            ]
          },
          "metadata": {},
          "execution_count": 122
        }
      ]
    },
    {
      "cell_type": "code",
      "source": [
        "print(model.coef_)"
      ],
      "metadata": {
        "colab": {
          "base_uri": "https://localhost:8080/"
        },
        "id": "wvzY3SMnaPar",
        "outputId": "557c902d-bfe4-419c-abcf-e1d68914063c"
      },
      "execution_count": 123,
      "outputs": [
        {
          "output_type": "stream",
          "name": "stdout",
          "text": [
            "[82.43372858]\n"
          ]
        }
      ]
    },
    {
      "cell_type": "code",
      "source": [
        "bedrooms = df['bedrooms'].values.reshape(-1,1)\n",
        "predictions = model.predict(bedrooms)"
      ],
      "metadata": {
        "id": "ehH7i_P2bOQP"
      },
      "execution_count": 124,
      "outputs": []
    },
    {
      "cell_type": "code",
      "source": [
        "plt.scatter(df['bedrooms'], df['price'], color='blue')\n",
        "plt.plot(df['bedrooms'], predictions, color='red')\n",
        "plt.xlabel('Number of bedrooms')\n",
        "plt.ylabel('Price')\n",
        "plt.show()"
      ],
      "metadata": {
        "colab": {
          "base_uri": "https://localhost:8080/",
          "height": 279
        },
        "id": "wN8P49PPbSx_",
        "outputId": "543f58e9-77ee-4bc9-d398-bc578a3e9116"
      },
      "execution_count": 127,
      "outputs": [
        {
          "output_type": "display_data",
          "data": {
            "text/plain": [
              "<Figure size 432x288 with 1 Axes>"
            ],
            "image/png": "[encoded data removed]"
          },
          "metadata": {
            "needs_background": "light"
          }
        }
      ]
    },
    {
      "cell_type": "code",
      "source": [
        "fig, ax = plt.subplots(figsize=(8, 6))\n",
        "bp = ax.boxplot([df[df['bedrooms'] == n]['price'] for n in range(1, 5)], labels=range(1, 5))\n",
        "ax.set_ylim(0,1500)\n",
        "plt.xlabel('Number of bedrooms')\n",
        "plt.ylabel('Price')\n",
        "plt.show()"
      ],
      "metadata": {
        "colab": {
          "base_uri": "https://localhost:8080/",
          "height": 443
        },
        "id": "ytUoAKbUki1a",
        "outputId": "de752f38-1367-4672-c313-50df816eef13"
      },
      "execution_count": 141,
      "outputs": [
        {
          "output_type": "stream",
          "name": "stderr",
          "text": [
            "/usr/local/lib/python3.8/dist-packages/matplotlib/cbook/__init__.py:1376: VisibleDeprecationWarning: Creating an ndarray from ragged nested sequences (which is a list-or-tuple of lists-or-tuples-or ndarrays with different lengths or shapes) is deprecated. If you meant to do this, you must specify 'dtype=object' when creating the ndarray.\n",
            "  X = np.atleast_1d(X.T if isinstance(X, np.ndarray) else np.asarray(X))\n"
          ]
        },
        {
          "output_type": "display_data",
          "data": {
            "text/plain": [
              "<Figure size 576x432 with 1 Axes>"
            ],
            "image/png": "[encoded data removed]"
          },
          "metadata": {
            "needs_background": "light"
          }
        }
      ]
    }
  ]
}