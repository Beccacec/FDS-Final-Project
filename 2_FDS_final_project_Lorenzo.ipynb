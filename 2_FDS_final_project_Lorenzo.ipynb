{
  "nbformat": 4,
  "nbformat_minor": 0,
  "metadata": {
    "colab": {
      "provenance": [],
      "authorship_tag": "ABX9TyMhOSxPhgfCuP8odx96C1F2",
      "include_colab_link": true
    },
    "kernelspec": {
      "name": "python3",
      "display_name": "Python 3"
    },
    "language_info": {
      "name": "python"
    }
  },
  "cells": [
    {
      "cell_type": "markdown",
      "metadata": {
        "id": "view-in-github",
        "colab_type": "text"
      },
      "source": [
        "<a href=\"https://colab.research.google.com/github/Beccacec/FDS-Final-Project/blob/Lorenzo/2_FDS_final_project_Lorenzo.ipynb\" target=\"_parent\"><img src=\"https://colab.research.google.com/assets/colab-badge.svg\" alt=\"Open In Colab\"/></a>"
      ]
    },
    {
      "cell_type": "code",
      "source": [
        "import numpy as np\n",
        "from sklearn.linear_model import LinearRegression\n",
        "import pandas as pd\n",
        "import matplotlib.pyplot as plt\n",
        "import seaborn as sns"
      ],
      "metadata": {
        "id": "MPP_R8jPRnhK"
      },
      "execution_count": 17,
      "outputs": []
    },
    {
      "cell_type": "code",
      "execution_count": 2,
      "metadata": {
        "colab": {
          "base_uri": "https://localhost:8080/"
        },
        "id": "_Gl86BsJPIw2",
        "outputId": "766155ae-078a-4f3a-ec82-f2c9c02da3d9"
      },
      "outputs": [
        {
          "output_type": "stream",
          "name": "stdout",
          "text": [
            "Mounted at /content/drive\n"
          ]
        }
      ],
      "source": [
        "from google.colab import drive\n",
        "\n",
        "drive.mount('/content/drive')"
      ]
    },
    {
      "cell_type": "markdown",
      "source": [
        "We select specific features in order to find out which of them can affect the price of the property.\n",
        "So we choose features like \"id\", \"name\", \"neighbourhood\" (because some of them are not in specifically in the city of Rome\"), \"price\" and others that seemed interesting for this analysis."
      ],
      "metadata": {
        "id": "Mi00yCHRXX8W"
      }
    },
    {
      "cell_type": "code",
      "source": [
        "features_price = [\"id\",\"name\",\"neighbourhood\",\"neighbourhood_cleansed\",\"latitude\",\"longitude\",\"property_type\",\"room_type\",\"bedrooms\",\"beds\",\"amenities\",\"price\",\"number_of_reviews_ltm\",\"review_scores_rating\"]"
      ],
      "metadata": {
        "id": "O41QC4f3SXnt"
      },
      "execution_count": 3,
      "outputs": []
    },
    {
      "cell_type": "code",
      "source": [
        "df = pd.read_csv(\"/content/drive/MyDrive/FDS_final_project/listings.csv\", usecols = features_price)\n",
        "df.head()"
      ],
      "metadata": {
        "colab": {
          "base_uri": "https://localhost:8080/",
          "height": 600
        },
        "id": "NBvofp_-nFUm",
        "outputId": "b2531d2f-60e9-4985-befe-4eddb4575ec6"
      },
      "execution_count": 4,
      "outputs": [
        {
          "output_type": "execute_result",
          "data": {
            "text/plain": [
              "         id                                 name           neighbourhood  \\\n",
              "0  17629440                      ISOLA DEL CUORE  Ciampino, Lazio, Italy   \n",
              "1      2737     Elif's room in cozy, clean flat.      Rome, Lazio, Italy   \n",
              "2    103870  CASACHICA Your holiday home in Rome                     NaN   \n",
              "3      2903    Stay a night in Calisto6 B&B Rome                     NaN   \n",
              "4    104339      Colorful apartment close MetroB      Rome, Lazio, Italy   \n",
              "\n",
              "       neighbourhood_cleansed  latitude  longitude  \\\n",
              "0  VII San Giovanni/Cinecittà  41.78984   12.60899   \n",
              "1           VIII Appia Antica  41.87136   12.48215   \n",
              "2            I Centro Storico  41.89711   12.50423   \n",
              "3            I Centro Storico  41.88824   12.46953   \n",
              "4           VIII Appia Antica  41.85585   12.48361   \n",
              "\n",
              "                       property_type        room_type  bedrooms  beds  \\\n",
              "0        Private room in rental unit     Private room       1.0   1.0   \n",
              "1                       Private room     Private room       1.0   1.0   \n",
              "2                 Entire rental unit  Entire home/apt       1.0   2.0   \n",
              "3  Private room in bed and breakfast     Private room       1.0   2.0   \n",
              "4                 Entire rental unit  Entire home/apt       1.0   2.0   \n",
              "\n",
              "                                           amenities    price  \\\n",
              "0  [\"Heating\", \"Shampoo\", \"Cleaning products\", \"H...   $45.00   \n",
              "1  [\"First aid kit\", \"Heating\", \"Elevator\", \"Wifi...   $50.00   \n",
              "2  [\"Air conditioning\", \"Heating\", \"Lockbox\", \"Mi...   $78.00   \n",
              "3  [\"Air conditioning\", \"First aid kit\", \"Heating...  $164.00   \n",
              "4  [\"Heating\", \"Paid parking off premises\", \"Lugg...   $80.00   \n",
              "\n",
              "   number_of_reviews_ltm  review_scores_rating  \n",
              "0                      8                  4.74  \n",
              "1                      0                  4.80  \n",
              "2                     30                  4.11  \n",
              "3                      0                  4.28  \n",
              "4                      0                  5.00  "
            ],
            "text/html": [
              "\n",
              "  <div id=\"df-95becb81-a7fd-4dad-92ae-b2c0245e8286\">\n",
              "    <div class=\"colab-df-container\">\n",
              "      <div>\n",
              "<style scoped>\n",
              "    .dataframe tbody tr th:only-of-type {\n",
              "        vertical-align: middle;\n",
              "    }\n",
              "\n",
              "    .dataframe tbody tr th {\n",
              "        vertical-align: top;\n",
              "    }\n",
              "\n",
              "    .dataframe thead th {\n",
              "        text-align: right;\n",
              "    }\n",
              "</style>\n",
              "<table border=\"1\" class=\"dataframe\">\n",
              "  <thead>\n",
              "    <tr style=\"text-align: right;\">\n",
              "      <th></th>\n",
              "      <th>id</th>\n",
              "      <th>name</th>\n",
              "      <th>neighbourhood</th>\n",
              "      <th>neighbourhood_cleansed</th>\n",
              "      <th>latitude</th>\n",
              "      <th>longitude</th>\n",
              "      <th>property_type</th>\n",
              "      <th>room_type</th>\n",
              "      <th>bedrooms</th>\n",
              "      <th>beds</th>\n",
              "      <th>amenities</th>\n",
              "      <th>price</th>\n",
              "      <th>number_of_reviews_ltm</th>\n",
              "      <th>review_scores_rating</th>\n",
              "    </tr>\n",
              "  </thead>\n",
              "  <tbody>\n",
              "    <tr>\n",
              "      <th>0</th>\n",
              "      <td>17629440</td>\n",
              "      <td>ISOLA DEL CUORE</td>\n",
              "      <td>Ciampino, Lazio, Italy</td>\n",
              "      <td>VII San Giovanni/Cinecittà</td>\n",
              "      <td>41.78984</td>\n",
              "      <td>12.60899</td>\n",
              "      <td>Private room in rental unit</td>\n",
              "      <td>Private room</td>\n",
              "      <td>1.0</td>\n",
              "      <td>1.0</td>\n",
              "      <td>[\"Heating\", \"Shampoo\", \"Cleaning products\", \"H...</td>\n",
              "      <td>$45.00</td>\n",
              "      <td>8</td>\n",
              "      <td>4.74</td>\n",
              "    </tr>\n",
              "    <tr>\n",
              "      <th>1</th>\n",
              "      <td>2737</td>\n",
              "      <td>Elif's room in cozy, clean flat.</td>\n",
              "      <td>Rome, Lazio, Italy</td>\n",
              "      <td>VIII Appia Antica</td>\n",
              "      <td>41.87136</td>\n",
              "      <td>12.48215</td>\n",
              "      <td>Private room</td>\n",
              "      <td>Private room</td>\n",
              "      <td>1.0</td>\n",
              "      <td>1.0</td>\n",
              "      <td>[\"First aid kit\", \"Heating\", \"Elevator\", \"Wifi...</td>\n",
              "      <td>$50.00</td>\n",
              "      <td>0</td>\n",
              "      <td>4.80</td>\n",
              "    </tr>\n",
              "    <tr>\n",
              "      <th>2</th>\n",
              "      <td>103870</td>\n",
              "      <td>CASACHICA Your holiday home in Rome</td>\n",
              "      <td>NaN</td>\n",
              "      <td>I Centro Storico</td>\n",
              "      <td>41.89711</td>\n",
              "      <td>12.50423</td>\n",
              "      <td>Entire rental unit</td>\n",
              "      <td>Entire home/apt</td>\n",
              "      <td>1.0</td>\n",
              "      <td>2.0</td>\n",
              "      <td>[\"Air conditioning\", \"Heating\", \"Lockbox\", \"Mi...</td>\n",
              "      <td>$78.00</td>\n",
              "      <td>30</td>\n",
              "      <td>4.11</td>\n",
              "    </tr>\n",
              "    <tr>\n",
              "      <th>3</th>\n",
              "      <td>2903</td>\n",
              "      <td>Stay a night in Calisto6 B&amp;B Rome</td>\n",
              "      <td>NaN</td>\n",
              "      <td>I Centro Storico</td>\n",
              "      <td>41.88824</td>\n",
              "      <td>12.46953</td>\n",
              "      <td>Private room in bed and breakfast</td>\n",
              "      <td>Private room</td>\n",
              "      <td>1.0</td>\n",
              "      <td>2.0</td>\n",
              "      <td>[\"Air conditioning\", \"First aid kit\", \"Heating...</td>\n",
              "      <td>$164.00</td>\n",
              "      <td>0</td>\n",
              "      <td>4.28</td>\n",
              "    </tr>\n",
              "    <tr>\n",
              "      <th>4</th>\n",
              "      <td>104339</td>\n",
              "      <td>Colorful apartment close MetroB</td>\n",
              "      <td>Rome, Lazio, Italy</td>\n",
              "      <td>VIII Appia Antica</td>\n",
              "      <td>41.85585</td>\n",
              "      <td>12.48361</td>\n",
              "      <td>Entire rental unit</td>\n",
              "      <td>Entire home/apt</td>\n",
              "      <td>1.0</td>\n",
              "      <td>2.0</td>\n",
              "      <td>[\"Heating\", \"Paid parking off premises\", \"Lugg...</td>\n",
              "      <td>$80.00</td>\n",
              "      <td>0</td>\n",
              "      <td>5.00</td>\n",
              "    </tr>\n",
              "  </tbody>\n",
              "</table>\n",
              "</div>\n",
              "      <button class=\"colab-df-convert\" onclick=\"convertToInteractive('df-95becb81-a7fd-4dad-92ae-b2c0245e8286')\"\n",
              "              title=\"Convert this dataframe to an interactive table.\"\n",
              "              style=\"display:none;\">\n",
              "        \n",
              "  <svg xmlns=\"http://www.w3.org/2000/svg\" height=\"24px\"viewBox=\"0 0 24 24\"\n",
              "       width=\"24px\">\n",
              "    <path d=\"M0 0h24v24H0V0z\" fill=\"none\"/>\n",
              "    <path d=\"M18.56 5.44l.94 2.06.94-2.06 2.06-.94-2.06-.94-.94-2.06-.94 2.06-2.06.94zm-11 1L8.5 8.5l.94-2.06 2.06-.94-2.06-.94L8.5 2.5l-.94 2.06-2.06.94zm10 10l.94 2.06.94-2.06 2.06-.94-2.06-.94-.94-2.06-.94 2.06-2.06.94z\"/><path d=\"M17.41 7.96l-1.37-1.37c-.4-.4-.92-.59-1.43-.59-.52 0-1.04.2-1.43.59L10.3 9.45l-7.72 7.72c-.78.78-.78 2.05 0 2.83L4 21.41c.39.39.9.59 1.41.59.51 0 1.02-.2 1.41-.59l7.78-7.78 2.81-2.81c.8-.78.8-2.07 0-2.86zM5.41 20L4 18.59l7.72-7.72 1.47 1.35L5.41 20z\"/>\n",
              "  </svg>\n",
              "      </button>\n",
              "      \n",
              "  <style>\n",
              "    .colab-df-container {\n",
              "      display:flex;\n",
              "      flex-wrap:wrap;\n",
              "      gap: 12px;\n",
              "    }\n",
              "\n",
              "    .colab-df-convert {\n",
              "      background-color: #E8F0FE;\n",
              "      border: none;\n",
              "      border-radius: 50%;\n",
              "      cursor: pointer;\n",
              "      display: none;\n",
              "      fill: #1967D2;\n",
              "      height: 32px;\n",
              "      padding: 0 0 0 0;\n",
              "      width: 32px;\n",
              "    }\n",
              "\n",
              "    .colab-df-convert:hover {\n",
              "      background-color: #E2EBFA;\n",
              "      box-shadow: 0px 1px 2px rgba(60, 64, 67, 0.3), 0px 1px 3px 1px rgba(60, 64, 67, 0.15);\n",
              "      fill: #174EA6;\n",
              "    }\n",
              "\n",
              "    [theme=dark] .colab-df-convert {\n",
              "      background-color: #3B4455;\n",
              "      fill: #D2E3FC;\n",
              "    }\n",
              "\n",
              "    [theme=dark] .colab-df-convert:hover {\n",
              "      background-color: #434B5C;\n",
              "      box-shadow: 0px 1px 3px 1px rgba(0, 0, 0, 0.15);\n",
              "      filter: drop-shadow(0px 1px 2px rgba(0, 0, 0, 0.3));\n",
              "      fill: #FFFFFF;\n",
              "    }\n",
              "  </style>\n",
              "\n",
              "      <script>\n",
              "        const buttonEl =\n",
              "          document.querySelector('#df-95becb81-a7fd-4dad-92ae-b2c0245e8286 button.colab-df-convert');\n",
              "        buttonEl.style.display =\n",
              "          google.colab.kernel.accessAllowed ? 'block' : 'none';\n",
              "\n",
              "        async function convertToInteractive(key) {\n",
              "          const element = document.querySelector('#df-95becb81-a7fd-4dad-92ae-b2c0245e8286');\n",
              "          const dataTable =\n",
              "            await google.colab.kernel.invokeFunction('convertToInteractive',\n",
              "                                                     [key], {});\n",
              "          if (!dataTable) return;\n",
              "\n",
              "          const docLinkHtml = 'Like what you see? Visit the ' +\n",
              "            '<a target=\"_blank\" href=https://colab.research.google.com/notebooks/data_table.ipynb>data table notebook</a>'\n",
              "            + ' to learn more about interactive tables.';\n",
              "          element.innerHTML = '';\n",
              "          dataTable['output_type'] = 'display_data';\n",
              "          await google.colab.output.renderOutput(dataTable, element);\n",
              "          const docLink = document.createElement('div');\n",
              "          docLink.innerHTML = docLinkHtml;\n",
              "          element.appendChild(docLink);\n",
              "        }\n",
              "      </script>\n",
              "    </div>\n",
              "  </div>\n",
              "  "
            ]
          },
          "metadata": {},
          "execution_count": 4
        }
      ]
    },
    {
      "cell_type": "markdown",
      "source": [
        "Deleting NaN values in the dataframe"
      ],
      "metadata": {
        "id": "OQ37eMmc9qwo"
      }
    },
    {
      "cell_type": "code",
      "source": [
        "df = df.dropna()"
      ],
      "metadata": {
        "id": "CBmdW8G6Mb_y"
      },
      "execution_count": 5,
      "outputs": []
    },
    {
      "cell_type": "markdown",
      "source": [
        "We want to consider only properties in the city of Rome and not the ones from Rome area but outside the city."
      ],
      "metadata": {
        "id": "nW6Npx4i_IXX"
      }
    },
    {
      "cell_type": "code",
      "source": [
        "df = df.drop(df[~df['neighbourhood'].str.contains('Rome')].index)\n"
      ],
      "metadata": {
        "id": "Smtjh-Vh_HnR"
      },
      "execution_count": 6,
      "outputs": []
    },
    {
      "cell_type": "markdown",
      "source": [
        "We replace the symbol \"$\" with a space in the column referring to the price."
      ],
      "metadata": {
        "id": "gorO3nkZquUS"
      }
    },
    {
      "cell_type": "code",
      "source": [
        "df[\"price\"] = df[\"price\"].str.replace('$','',regex = True)"
      ],
      "metadata": {
        "id": "zaosvN6Ddo9v"
      },
      "execution_count": 7,
      "outputs": []
    },
    {
      "cell_type": "markdown",
      "source": [
        "We want to remove comma from the prices"
      ],
      "metadata": {
        "id": "Iw2NyWh2L704"
      }
    },
    {
      "cell_type": "code",
      "source": [
        "df[\"price\"] = df[\"price\"].str.replace(\",\",\"\",regex= True)"
      ],
      "metadata": {
        "id": "bDY8_W8sL7fo"
      },
      "execution_count": 8,
      "outputs": []
    },
    {
      "cell_type": "code",
      "source": [
        "price = df[\"price\"]\n",
        "price = price.astype(float)\n",
        "df.update(price)"
      ],
      "metadata": {
        "id": "aieORbq2j-QI"
      },
      "execution_count": 9,
      "outputs": []
    },
    {
      "cell_type": "code",
      "source": [
        "df.head()"
      ],
      "metadata": {
        "id": "2blD__h-LosP"
      },
      "execution_count": null,
      "outputs": []
    },
    {
      "cell_type": "code",
      "source": [
        "x = df[\"bedrooms\"].to_numpy().reshape((-1,1))\n",
        "y = df[\"price\"].to_numpy()"
      ],
      "metadata": {
        "id": "4TdR-54dtOVa"
      },
      "execution_count": 11,
      "outputs": []
    },
    {
      "cell_type": "code",
      "source": [
        "model = LinearRegression().fit(x,y)"
      ],
      "metadata": {
        "id": "ZO3t2JQ8Ye5D"
      },
      "execution_count": 12,
      "outputs": []
    },
    {
      "cell_type": "code",
      "source": [
        "r_sq = model.score(x,y)"
      ],
      "metadata": {
        "id": "OGFhKnEhZYyK"
      },
      "execution_count": 13,
      "outputs": []
    },
    {
      "cell_type": "code",
      "source": [
        "print(f\"coefficient of determination: {r_sq}\")"
      ],
      "metadata": {
        "colab": {
          "base_uri": "https://localhost:8080/"
        },
        "id": "YiOze87yZu5w",
        "outputId": "93504561-31e2-490e-fb10-4f7719d63321"
      },
      "execution_count": 14,
      "outputs": [
        {
          "output_type": "stream",
          "name": "stdout",
          "text": [
            "coefficient of determination: 0.06570833814349086\n"
          ]
        }
      ]
    },
    {
      "cell_type": "markdown",
      "source": [
        "The coefficient of determination is really low. That means that there is a lack of correlation and that the model probably is not a good fit for the data.\n",
        "We want to check the residual plots to be sure to have unbiased estimates. "
      ],
      "metadata": {
        "id": "dXQcxA8Ra9eN"
      }
    },
    {
      "cell_type": "code",
      "source": [
        "sns.residplot(x, y, data=df)"
      ],
      "metadata": {
        "colab": {
          "base_uri": "https://localhost:8080/",
          "height": 337
        },
        "id": "2fL_eHPzmx3n",
        "outputId": "5e5b6163-18e5-45ba-ab0e-ebab45b3d5ce"
      },
      "execution_count": 23,
      "outputs": [
        {
          "output_type": "stream",
          "name": "stderr",
          "text": [
            "/usr/local/lib/python3.8/dist-packages/seaborn/_decorators.py:36: FutureWarning: Pass the following variables as keyword args: x, y. From version 0.12, the only valid positional argument will be `data`, and passing other arguments without an explicit keyword will result in an error or misinterpretation.\n",
            "  warnings.warn(\n"
          ]
        },
        {
          "output_type": "execute_result",
          "data": {
            "text/plain": [
              "<matplotlib.axes._subplots.AxesSubplot at 0x7fc20a957eb0>"
            ]
          },
          "metadata": {},
          "execution_count": 23
        },
        {
          "output_type": "display_data",
          "data": {
            "text/plain": [
              "<Figure size 432x288 with 1 Axes>"
            ],
            "image/png": "[encoded data removed]"
          },
          "metadata": {
            "needs_background": "light"
          }
        }
      ]
    },
    {
      "cell_type": "markdown",
      "source": [
        "The plot doesn't show a random distribution around the line at zero, so it means that the model is biased and it's necessary to use a different model."
      ],
      "metadata": {
        "id": "wek6GlFUntGH"
      }
    }
  ]
}